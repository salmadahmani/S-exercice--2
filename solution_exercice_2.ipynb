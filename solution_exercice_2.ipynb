{
  "nbformat": 4,
  "nbformat_minor": 0,
  "metadata": {
    "colab": {
      "provenance": []
    },
    "kernelspec": {
      "name": "python3",
      "display_name": "Python 3"
    },
    "language_info": {
      "name": "python"
    }
  },
  "cells": [
    {
      "cell_type": "code",
      "execution_count": 54,
      "metadata": {
        "colab": {
          "base_uri": "https://localhost:8080/"
        },
        "id": "1X-Xp07tH4k8",
        "outputId": "0ca9ce1e-bc04-4ca2-f353-ea01767dd9b0"
      },
      "outputs": [
        {
          "output_type": "stream",
          "name": "stdout",
          "text": [
            "[8 4 5 4 5 5 6 7]\n",
            "6\n",
            "6.5\n",
            "1.4142135623730951\n",
            "-0.6479390965872466 cela signifie que la distribution est asymétrique à gauche\n",
            "-1.140625 donc la distribution est platykrtique\n"
          ]
        }
      ],
      "source": [
        "import numpy as np\n",
        "import statistics\n",
        "import scipy.stats\n",
        "def StaDes(list):\n",
        "  liste =np.random.randint(4,9,8) \n",
        "  return liste\n",
        "print(StaDes(list)) \n",
        "print((statistics.mean(StaDes(list))))\n",
        "print((statistics.median(StaDes(list))))\n",
        "print((statistics.stdev(StaDes(list))))\n",
        "S=scipy.stats.skew(StaDes(list))\n",
        "if S == 0:\n",
        "  print(S ,\"cela signifie que la distribution est symétrique \")\n",
        "elif S < 0:\n",
        "  print(S,\"cela signifie que la distribution est asymétrique à gauche\")\n",
        "else:\n",
        "  print(S,\"cela signifie que la distribution est asymétrique à droite\")  \n",
        "K= scipy.stats.kurtosis(StaDes(list))\n",
        "if K == 3:\n",
        "   print(K,\"donc la distribution est mésokurtique(normale)\")\n",
        "elif K > 3:\n",
        "   print(K,\"donc la distribution est leptokurtique\") \n",
        "else:\n",
        " print(K,\"donc la distribution est platykrtique\")      "
      ]
    },
    {
      "cell_type": "code",
      "source": [],
      "metadata": {
        "id": "-Pzwp5zfjsHJ"
      },
      "execution_count": 49,
      "outputs": []
    },
    {
      "cell_type": "code",
      "source": [],
      "metadata": {
        "id": "etavjNf5WwxL"
      },
      "execution_count": 47,
      "outputs": []
    }
  ]
}